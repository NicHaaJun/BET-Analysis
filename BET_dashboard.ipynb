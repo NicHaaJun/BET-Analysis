{
 "cells": [
  {
   "cell_type": "code",
   "execution_count": 256,
   "id": "7f1b9bc4",
   "metadata": {
    "jupyter": {
     "source_hidden": true
    }
   },
   "outputs": [
    {
     "name": "stdout",
     "output_type": "stream",
     "text": [
      "The autoreload extension is already loaded. To reload it, use:\n",
      "  %reload_ext autoreload\n"
     ]
    }
   ],
   "source": [
    "%load_ext autoreload\n",
    "%autoreload 2\n",
    "\n",
    "%matplotlib widget\n",
    "import matplotlib.pyplot as plt\n",
    "from scipy.constants import R\n",
    "import pandas as pd\n",
    "import numpy as np\n",
    "import os\n",
    "import glob \n",
    "\n",
    "import ipywidgets as widgets\n",
    "\n",
    "import pygaps as pg\n",
    "from bet_class import BET"
   ]
  },
  {
   "cell_type": "code",
   "execution_count": 2,
   "id": "80e4f83d",
   "metadata": {
    "jupyter": {
     "source_hidden": true
    }
   },
   "outputs": [
    {
     "data": {
      "application/vnd.jupyter.widget-view+json": {
       "model_id": "bdc1abcc71ec4415ad0a7eecb2712b0a",
       "version_major": 2,
       "version_minor": 0
      },
      "text/plain": [
       "VBox(children=(Text(value='', description='Main folder', layout=Layout(height='80px', width='50%')), Dropdown(…"
      ]
     },
     "metadata": {},
     "output_type": "display_data"
    }
   ],
   "source": [
    "layout=widgets.Layout(width='50%', height='80px')\n",
    "output2 = widgets.Output()\n",
    "\n",
    "main_folder = widgets.Text(description='Main folder', layout=layout)\n",
    "\n",
    "select_folder = widgets.Dropdown(description='Folder Select', layout=widgets.Layout(width='25%', height='30px'))\n",
    "file_folder = widgets.SelectMultiple(description='File Select', layout=widgets.Layout(width='25%', height='300px'))\n",
    "\n",
    "\n",
    "def on_value_change(change):\n",
    "    folder = os.listdir(change.new)\n",
    "    select_folder.options=folder\n",
    "\n",
    "def on_value_change_2(change):\n",
    "    fold = os.path.join(main_folder.value, change.new)\n",
    "    files = [_ for _ in os.listdir(fold) if _.endswith('.DAT')]\n",
    "    file_folder.options = files\n",
    "    \n",
    "main_folder.observe(on_value_change, names='value')\n",
    "select_folder.observe(on_value_change_2, names='value')\n",
    "\n",
    "main = widgets.VBox([main_folder, select_folder, file_folder, output2])    \n",
    "display(main)"
   ]
  },
  {
   "cell_type": "code",
   "execution_count": 315,
   "id": "d72f5844",
   "metadata": {},
   "outputs": [],
   "source": [
    "file_select = os.path.join(main_folder.value, select_folder.value, file_folder.value[0])"
   ]
  },
  {
   "cell_type": "code",
   "execution_count": 500,
   "id": "16e5f351",
   "metadata": {},
   "outputs": [],
   "source": [
    "bet = BET(file_select)"
   ]
  },
  {
   "cell_type": "code",
   "execution_count": 501,
   "id": "e32974c0",
   "metadata": {},
   "outputs": [
    {
     "data": {
      "text/plain": [
       "{'area': 289.17917209380806,\n",
       " 'c_const': 734.3600790746036,\n",
       " 'n_monolayer': 0.002964156251078749,\n",
       " 'p_monolayer': 0.035588355132443024,\n",
       " 'bet_slope': 336.9047329544369,\n",
       " 'bet_intercept': 0.45939878999080896,\n",
       " 'corr_coef': 0.9999948257096923,\n",
       " 'pressure_range': [0.01276208106001559, 0.10198946752486834],\n",
       " 'minimum': 10,\n",
       " 'maximum': 16,\n",
       " 'limits': [10, 16]}"
      ]
     },
     "execution_count": 501,
     "metadata": {},
     "output_type": "execute_result"
    }
   ],
   "source": [
    "bet.BET_analysis()"
   ]
  },
  {
   "cell_type": "code",
   "execution_count": 497,
   "id": "1c280a07",
   "metadata": {
    "jupyter": {
     "source_hidden": true
    }
   },
   "outputs": [
    {
     "data": {
      "application/vnd.jupyter.widget-view+json": {
       "model_id": "9d35454ac6cd4f0780bec358c606a40a",
       "version_major": 2,
       "version_minor": 0
      },
      "text/plain": [
       "HBox(children=(Output(), VBox(children=(HBox(children=(Output(), Output())), Output()))))"
      ]
     },
     "metadata": {},
     "output_type": "display_data"
    }
   ],
   "source": [
    "isotherm_out = widgets.Output()\n",
    "bet_plot = widgets.Output()\n",
    "roq_plot = widgets.Output()\n",
    "bet_res = widgets.Output()\n",
    "\n",
    "with isotherm_out:\n",
    "    bet.isotherm.plot()\n",
    "    \n",
    "with bet_plot:\n",
    "    bet.plot_bet()\n",
    "    \n",
    "with roq_plot:\n",
    "    bet.plot_roq()\n",
    "    \n",
    "with bet_res:\n",
    "    display(pd.DataFrame(bet.BET_analysis()))\n",
    "    \n",
    "BET_plots = widgets.HBox([bet_plot, roq_plot])\n",
    "tot_BET = widgets.VBox([BET_plots, bet_res])\n",
    "main_out = widgets.HBox([isotherm_out, tot_BET])\n",
    "\n",
    "display(main_out)"
   ]
  }
 ],
 "metadata": {
  "kernelspec": {
   "display_name": "Python [conda env:BET]",
   "language": "python",
   "name": "conda-env-BET-py"
  },
  "language_info": {
   "codemirror_mode": {
    "name": "ipython",
    "version": 3
   },
   "file_extension": ".py",
   "mimetype": "text/x-python",
   "name": "python",
   "nbconvert_exporter": "python",
   "pygments_lexer": "ipython3",
   "version": "3.8.10"
  }
 },
 "nbformat": 4,
 "nbformat_minor": 5
}
