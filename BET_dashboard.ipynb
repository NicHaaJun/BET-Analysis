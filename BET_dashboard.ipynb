{
 "cells": [
  {
   "cell_type": "code",
   "execution_count": null,
   "id": "5b28aefd",
   "metadata": {
    "jupyter": {
     "source_hidden": true
    }
   },
   "outputs": [],
   "source": [
    "%load_ext autoreload\n",
    "%autoreload 2\n",
    "\n",
    "%matplotlib widget\n",
    "import matplotlib.pyplot as plt\n",
    "from scipy.constants import R\n",
    "import pandas as pd\n",
    "import numpy as np\n",
    "import os\n",
    "import glob \n",
    "\n",
    "import ipywidgets as widgets\n",
    "\n",
    "import pygaps as pg\n",
    "from bet_class import BET"
   ]
  },
  {
   "cell_type": "code",
   "execution_count": null,
   "id": "ca89f2fa",
   "metadata": {
    "jupyter": {
     "source_hidden": true
    }
   },
   "outputs": [],
   "source": [
    "layout=widgets.Layout(width='50%', height='80px')\n",
    "\n",
    "\n",
    "##### WIDGET DEFINITIONS\n",
    "\n",
    "\n",
    "\n",
    "main_folder = widgets.Text(description='Main folder', layout=layout)  #  Main folder select\n",
    "select_folder = widgets.Dropdown(description='Folder Select', layout=widgets.Layout(width='450px', height='30px'))\n",
    "file_folder = widgets.SelectMultiple(description='File Select', layout=widgets.Layout(width='450px', height='350px'))\n",
    "\n",
    "run_analysis = widgets.Button(description='Run BET', disabled=True)\n",
    "\n",
    "clear_all_b = widgets.Button(description='Clear All')\n",
    "\n",
    "###### BET PLOTTING WIDGETS\n",
    "\n",
    "isotherm_out = widgets.Output()\n",
    "bet_plot = widgets.Output()\n",
    "roq_plot = widgets.Output()\n",
    "bet_res = widgets.Output()\n",
    "\n",
    "plot_outputs = [isotherm_out, bet_plot, roq_plot, bet_res]\n",
    "\n",
    "#### WIDGET EVENTS\n",
    "\n",
    "def on_value_change(change):\n",
    "    folder = os.listdir(change.new)\n",
    "    select_folder.options=folder\n",
    "\n",
    "def on_value_change_2(change):\n",
    "    fold = os.path.join(main_folder.value, change.new)\n",
    "    files = [_ for _ in os.listdir(fold) if _.endswith('.DAT')]\n",
    "    file_folder.options = files\n",
    "    run_analysis.disabled = False\n",
    "    \n",
    "def run_bet(b):\n",
    "    file_select = os.path.join(main_folder.value, select_folder.value, file_folder.value[0])\n",
    "    bet = BET(file_select)\n",
    "    with bet_res:\n",
    "        res = bet.BET_results \n",
    "        df = pd.DataFrame(res.values(), columns=['value'])\n",
    "        df = df.set_index(pd.Index([*res]))\n",
    "        display(df)\n",
    "        \n",
    "    with isotherm_out:\n",
    "        bet.plot_isotherm()\n",
    "    \n",
    "    with bet_plot:\n",
    "        bet.plot_bet()\n",
    "\n",
    "    with roq_plot:\n",
    "        bet.plot_roq()\n",
    "        \n",
    "def clear_all(b):\n",
    "    for output in plot_outputs:\n",
    "        output.clear_output()\n",
    "    \n",
    "    \n",
    "main_folder.observe(on_value_change, names='value')\n",
    "select_folder.observe(on_value_change_2, names='value')\n",
    "\n",
    "run_analysis.on_click(run_bet)\n",
    "clear_all_b.on_click(clear_all)\n",
    "\n",
    "##### WIDGET LAYOUT\n",
    "\n",
    "a = widgets.VBox([select_folder, file_folder], layout=widgets.Layout(width='500px'))\n",
    "BET_plots = widgets.HBox([bet_plot, roq_plot])\n",
    "\n",
    "buttons = widgets.HBox([run_analysis, clear_all_b])\n",
    "\n",
    "b = widgets.VBox([buttons, bet_res])\n",
    "c = widgets.HBox(([b, BET_plots]))\n",
    "\n",
    "\n",
    "d = widgets.HBox([a, c])\n",
    "\n",
    "\n",
    "\n",
    "\n",
    "main = widgets.VBox([main_folder, d, isotherm_out])    \n",
    "display(main)"
   ]
  }
 ],
 "metadata": {
  "kernelspec": {
   "display_name": "Python [conda env:BET]",
   "language": "python",
   "name": "conda-env-BET-py"
  },
  "language_info": {
   "codemirror_mode": {
    "name": "ipython",
    "version": 3
   },
   "file_extension": ".py",
   "mimetype": "text/x-python",
   "name": "python",
   "nbconvert_exporter": "python",
   "pygments_lexer": "ipython3",
   "version": "3.8.10"
  }
 },
 "nbformat": 4,
 "nbformat_minor": 5
}
